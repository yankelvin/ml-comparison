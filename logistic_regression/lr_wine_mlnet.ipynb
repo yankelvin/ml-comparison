{
 "cells": [
  {
   "cell_type": "code",
   "execution_count": null,
   "metadata": {
    "dotnet_interactive": {
     "language": "csharp"
    }
   },
   "outputs": [
    {
     "data": {
      "text/html": [
       "<div><div></div><div></div><div><strong>Installed Packages</strong><ul><li><span>Microsoft.ML, 1.6.0</span></li></ul></div></div>"
      ]
     },
     "metadata": {},
     "output_type": "display_data"
    }
   ],
   "source": [
    "#r \"nuget:Microsoft.ML\""
   ]
  },
  {
   "cell_type": "code",
   "execution_count": null,
   "metadata": {
    "dotnet_interactive": {
     "language": "csharp"
    }
   },
   "outputs": [],
   "source": [
    "using System;\n",
    "using System.IO;\n",
    "using Microsoft.ML;\n",
    "using Microsoft.ML.Data;"
   ]
  },
  {
   "cell_type": "code",
   "execution_count": null,
   "metadata": {
    "dotnet_interactive": {
     "language": "csharp"
    }
   },
   "outputs": [],
   "source": [
    "public class WineQualityData\n",
    "{\n",
    "    [LoadColumn(0, 10)]\n",
    "    public float Features { get; set; }\n",
    "    \n",
    "    [LoadColumn(11)]\n",
    "    public float Quality { get; set; }\n",
    "}"
   ]
  },
  {
   "cell_type": "code",
   "execution_count": null,
   "metadata": {
    "dotnet_interactive": {
     "language": "csharp"
    }
   },
   "outputs": [],
   "source": [
    "var dataPath = \"../datasets/winequality-red.csv\";"
   ]
  },
  {
   "cell_type": "code",
   "execution_count": null,
   "metadata": {
    "dotnet_interactive": {
     "language": "csharp"
    }
   },
   "outputs": [],
   "source": [
    "var data = mlContext.Data.LoadFromTextFile<WineQualityData>(dataPath, hasHeader: true, separatorChar: ';');"
   ]
  },
  {
   "cell_type": "code",
   "execution_count": null,
   "metadata": {
    "dotnet_interactive": {
     "language": "csharp"
    }
   },
   "outputs": [],
   "source": [
    "var mlContext = new MLContext(seed: 0);"
   ]
  },
  {
   "cell_type": "code",
   "execution_count": null,
   "metadata": {
    "dotnet_interactive": {
     "language": "csharp"
    }
   },
   "outputs": [],
   "source": [
    "var partitions = mlContext.Data.TrainTestSplit(data, testFraction: 0.3);\n",
    "\n",
    "var trainingDataView = partitions.TrainSet;\n",
    "var testDataView = partitions.TestSet;"
   ]
  },
  {
   "cell_type": "code",
   "execution_count": null,
   "metadata": {
    "dotnet_interactive": {
     "language": "csharp"
    }
   },
   "outputs": [],
   "source": [
    "var pipeline = mlContext.Transforms.Conversion.MapValueToKey(inputColumnName: \"Quality\", outputColumnName: \"Label\")\n",
    "              .Append(mlContext.Transforms.Concatenate(\"Features\", nameof(WineQualityData.Features)))\n",
    "              .Append(mlContext.Transforms.NormalizeMinMax(\"Features\", \"Features\"))\n",
    "              .AppendCacheCheckpoint(mlContext);"
   ]
  },
  {
   "cell_type": "code",
   "execution_count": null,
   "metadata": {
    "dotnet_interactive": {
     "language": "csharp"
    }
   },
   "outputs": [],
   "source": [
    "var trainer = mlContext.MulticlassClassification.Trainers.SdcaMaximumEntropy(\"Label\", \"Features\");\n",
    "var trainingPipeline = pipeline.Append(trainer).Append(mlContext.Transforms.Conversion.MapKeyToValue(\"PredictedLabel\"));"
   ]
  },
  {
   "cell_type": "code",
   "execution_count": null,
   "metadata": {
    "dotnet_interactive": {
     "language": "csharp"
    }
   },
   "outputs": [],
   "source": [
    "var trainedModel = trainingPipeline.Fit(partitions.TrainSet);\n",
    "var predictions = trainedModel.Transform(partitions.TestSet);\n",
    "\n",
    "var metrics = mlContext.MulticlassClassification.Evaluate(predictions);"
   ]
  },
  {
   "cell_type": "code",
   "execution_count": null,
   "metadata": {
    "dotnet_interactive": {
     "language": "csharp"
    }
   },
   "outputs": [
    {
     "name": "stdout",
     "output_type": "stream",
     "text": [
      "Micro Accuracy: 58,66%\r\n",
      "Macro Accuracy: 25,03%\r\n",
      "Log Loss: 0,99\r\n",
      "Log Loss Reduction: 0,17\n",
      "\r\n",
      "\r\n",
      "Confusion table\r\n",
      "          ||================================================\r\n",
      "PREDICTED ||     0 |     1 |     2 |     3 |     4 |     5 | Recall\r\n",
      "TRUTH     ||================================================\r\n",
      "        0 ||   162 |    37 |     0 |     0 |     0 |     0 | 0,8141\r\n",
      "        1 ||    84 |   120 |     2 |     0 |     0 |     0 | 0,5825\r\n",
      "        2 ||     4 |    47 |     6 |     0 |     0 |     0 | 0,1053\r\n",
      "        3 ||    12 |     6 |     0 |     0 |     0 |     0 | 0,0000\r\n",
      "        4 ||     1 |     2 |     3 |     0 |     0 |     0 | 0,0000\r\n",
      "        5 ||     4 |     1 |     0 |     0 |     0 |     0 | 0,0000\r\n",
      "          ||================================================\r\n",
      "Precision ||0,6067 |0,5634 |0,5455 |0,0000 |0,0000 |0,0000 |\r\n",
      "\r\n"
     ]
    }
   ],
   "source": [
    "Console.WriteLine($\"Micro Accuracy: {metrics.MicroAccuracy:P2}\");\n",
    "Console.WriteLine($\"Macro Accuracy: {metrics.MacroAccuracy:P2}\");\n",
    "Console.WriteLine($\"Log Loss: {metrics.LogLoss:F2}\");\n",
    "Console.WriteLine($\"Log Loss Reduction: {metrics.LogLossReduction:F2}\\n\");\n",
    "Console.WriteLine(metrics.ConfusionMatrix.GetFormattedConfusionTable());"
   ]
  }
 ],
 "metadata": {
  "kernelspec": {
   "display_name": ".NET (C#)",
   "language": "C#",
   "name": ".net-csharp"
  },
  "language_info": {
   "name": "C#"
  }
 },
 "nbformat": 4,
 "nbformat_minor": 2
}
