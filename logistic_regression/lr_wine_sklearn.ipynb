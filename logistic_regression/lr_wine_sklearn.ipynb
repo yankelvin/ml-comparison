{
 "cells": [
  {
   "cell_type": "code",
   "execution_count": 72,
   "metadata": {},
   "outputs": [],
   "source": [
    "import pandas as pd\n",
    "from sklearn import preprocessing\n",
    "from sklearn.model_selection import train_test_split\n",
    "from sklearn.metrics import f1_score, confusion_matrix, log_loss\n",
    "from sklearn.linear_model import LogisticRegression"
   ]
  },
  {
   "cell_type": "code",
   "execution_count": 73,
   "metadata": {},
   "outputs": [],
   "source": [
    "dataPath = '../datasets/winequality-red.csv'\n",
    "dataSet = pd.read_csv(dataPath, sep=\";\")"
   ]
  },
  {
   "cell_type": "code",
   "execution_count": 74,
   "metadata": {},
   "outputs": [],
   "source": [
    "X = dataSet.drop(columns=\"quality\")\n",
    "y = dataSet[\"quality\"]\n",
    "\n",
    "X_train, X_test, y_train, y_test = train_test_split(X, y, test_size=0.2)"
   ]
  },
  {
   "cell_type": "code",
   "execution_count": 75,
   "metadata": {},
   "outputs": [],
   "source": [
    "X_train = preprocessing.normalize(X_train)\n",
    "X_test = preprocessing.normalize(X_test)"
   ]
  },
  {
   "cell_type": "code",
   "execution_count": 76,
   "metadata": {},
   "outputs": [
    {
     "data": {
      "text/plain": [
       "LogisticRegression(max_iter=10000)"
      ]
     },
     "execution_count": 76,
     "metadata": {},
     "output_type": "execute_result"
    }
   ],
   "source": [
    "clf = LogisticRegression(max_iter=10000)\n",
    "clf.fit(X_train, y_train)"
   ]
  },
  {
   "cell_type": "code",
   "execution_count": 77,
   "metadata": {},
   "outputs": [],
   "source": [
    "y_pred = clf.predict(X_test)"
   ]
  },
  {
   "cell_type": "code",
   "execution_count": 78,
   "metadata": {},
   "outputs": [],
   "source": [
    "macroAccuracy = f1_score(y_test, y_pred, average='macro')\n",
    "microAccuracy = f1_score(y_test, y_pred, average='micro')\n",
    "logLoss = log_loss(y_test, clf.predict_proba(X_test))"
   ]
  },
  {
   "cell_type": "code",
   "execution_count": 79,
   "metadata": {},
   "outputs": [
    {
     "name": "stdout",
     "output_type": "stream",
     "text": [
      "Micro Accuracy: 51.56%\n",
      "Macro Accuracy: 18.82%\n",
      "Log Loss: 107.89%\n",
      "\n",
      "[[ 0  0  0  2  0  0]\n",
      " [ 0  0  4  6  0  0]\n",
      " [ 0  0 80 56  0  0]\n",
      " [ 0  0 45 85  1  0]\n",
      " [ 0  0  8 32  0  0]\n",
      " [ 0  0  0  1  0  0]]\n"
     ]
    }
   ],
   "source": [
    "print(f\"Micro Accuracy: {microAccuracy*100:.2f}%\")\n",
    "print(f\"Macro Accuracy: {macroAccuracy*100:.2f}%\")\n",
    "print(f\"Log Loss: {logLoss*100:.2f}%\\n\")\n",
    "print(confusion_matrix(y_test, y_pred))"
   ]
  }
 ],
 "metadata": {
  "interpreter": {
   "hash": "95984f020b8c2fddded1e0167ee22f75e0ef006a5cca981969c7bd3ef59ed554"
  },
  "kernelspec": {
   "display_name": "Python 3.7.3 64-bit ('venv': venv)",
   "name": "python3"
  },
  "language_info": {
   "codemirror_mode": {
    "name": "ipython",
    "version": 3
   },
   "file_extension": ".py",
   "mimetype": "text/x-python",
   "name": "python",
   "nbconvert_exporter": "python",
   "pygments_lexer": "ipython3",
   "version": "3.7.3"
  },
  "orig_nbformat": 4
 },
 "nbformat": 4,
 "nbformat_minor": 2
}
