{
 "cells": [
  {
   "cell_type": "code",
   "execution_count": null,
   "metadata": {
    "dotnet_interactive": {
     "language": "csharp"
    }
   },
   "outputs": [
    {
     "data": {
      "text/html": [
       "<div><div></div><div></div><div><strong>Installed Packages</strong><ul><li><span>Microsoft.ML, 1.6.0</span></li></ul></div></div>"
      ]
     },
     "metadata": {},
     "output_type": "display_data"
    }
   ],
   "source": [
    "#r \"nuget:Microsoft.ML\""
   ]
  },
  {
   "cell_type": "code",
   "execution_count": null,
   "metadata": {
    "dotnet_interactive": {
     "language": "csharp"
    }
   },
   "outputs": [],
   "source": [
    "using System;\n",
    "using System.IO;\n",
    "using Microsoft.ML;\n",
    "using Microsoft.ML.Data;"
   ]
  },
  {
   "cell_type": "code",
   "execution_count": null,
   "metadata": {
    "dotnet_interactive": {
     "language": "csharp"
    }
   },
   "outputs": [],
   "source": [
    "var trainDataPath = \"../datasets/iris-train.txt\";\n",
    "var testDataPath = \"../datasets/iris-test.txt\";"
   ]
  },
  {
   "cell_type": "code",
   "execution_count": null,
   "metadata": {
    "dotnet_interactive": {
     "language": "csharp"
    }
   },
   "outputs": [],
   "source": [
    "public class IrisData\n",
    "{\n",
    "    [LoadColumn(0)]\n",
    "    public float Label;\n",
    "\n",
    "    [LoadColumn(1, 4)]\n",
    "    public float Features { get; set; }\n",
    "}"
   ]
  },
  {
   "cell_type": "code",
   "execution_count": null,
   "metadata": {
    "dotnet_interactive": {
     "language": "csharp"
    }
   },
   "outputs": [],
   "source": [
    "var mlContext = new MLContext(seed: 0);"
   ]
  },
  {
   "cell_type": "code",
   "execution_count": null,
   "metadata": {
    "dotnet_interactive": {
     "language": "csharp"
    }
   },
   "outputs": [],
   "source": [
    "var trainingDataView = mlContext.Data.LoadFromTextFile<IrisData>(trainDataPath, hasHeader: true);\n",
    "var testDataView = mlContext.Data.LoadFromTextFile<IrisData>(testDataPath, hasHeader: true);"
   ]
  },
  {
   "cell_type": "code",
   "execution_count": null,
   "metadata": {
    "dotnet_interactive": {
     "language": "csharp"
    }
   },
   "outputs": [],
   "source": [
    "var dataProcessPipeline = mlContext.Transforms.Conversion.MapValueToKey(outputColumnName: \"KeyColumn\", inputColumnName: nameof(IrisData.Label))\n",
    "                         .Append(mlContext.Transforms.Concatenate(\"Features\", nameof(IrisData.Features)).AppendCacheCheckpoint(mlContext))\n",
    "                         .Append(mlContext.Transforms.NormalizeMinMax(\"Features\", \"Features\"));"
   ]
  },
  {
   "cell_type": "code",
   "execution_count": null,
   "metadata": {
    "dotnet_interactive": {
     "language": "csharp"
    }
   },
   "outputs": [],
   "source": [
    "var trainer = mlContext.MulticlassClassification.Trainers.SdcaMaximumEntropy(labelColumnName: \"KeyColumn\", featureColumnName: \"Features\")\n",
    "              .Append(mlContext.Transforms.Conversion.MapKeyToValue(outputColumnName: nameof(IrisData.Label), inputColumnName: \"KeyColumn\"));\n",
    "\n",
    "var trainingPipeline = dataProcessPipeline.Append(trainer);"
   ]
  },
  {
   "cell_type": "code",
   "execution_count": null,
   "metadata": {
    "dotnet_interactive": {
     "language": "csharp"
    }
   },
   "outputs": [],
   "source": [
    "var trainedModel = trainingPipeline.Fit(trainingDataView);"
   ]
  },
  {
   "cell_type": "code",
   "execution_count": null,
   "metadata": {
    "dotnet_interactive": {
     "language": "csharp"
    }
   },
   "outputs": [],
   "source": [
    "var predictions = trainedModel.Transform(testDataView);\n",
    "var metrics = mlContext.MulticlassClassification.Evaluate(predictions);"
   ]
  },
  {
   "cell_type": "code",
   "execution_count": null,
   "metadata": {
    "dotnet_interactive": {
     "language": "csharp"
    }
   },
   "outputs": [
    {
     "name": "stdout",
     "output_type": "stream",
     "text": [
      "Micro Accuracy: 100,00%\r\n",
      "Macro Accuracy: 100,00%\r\n",
      "Log Loss: 3,51%\r\n",
      "\r\n",
      "Confusion table\r\n",
      "          ||========================\r\n",
      "PREDICTED ||     0 |     1 |     2 | Recall\r\n",
      "TRUTH     ||========================\r\n",
      "        0 ||     9 |     0 |     0 | 1,0000\r\n",
      "        1 ||     0 |    10 |     0 | 1,0000\r\n",
      "        2 ||     0 |     0 |    10 | 1,0000\r\n",
      "          ||========================\r\n",
      "Precision ||1,0000 |1,0000 |1,0000 |\r\n",
      "\r\n"
     ]
    }
   ],
   "source": [
    "Console.WriteLine($\"Micro Accuracy: {metrics.MicroAccuracy:P2}\");\n",
    "Console.WriteLine($\"Macro Accuracy: {metrics.MacroAccuracy:P2}\");\n",
    "Console.WriteLine($\"Log Loss: {metrics.LogLoss:P2}\");\n",
    "Console.WriteLine(metrics.ConfusionMatrix.GetFormattedConfusionTable());"
   ]
  }
 ],
 "metadata": {
  "kernelspec": {
   "display_name": ".NET (C#)",
   "language": "C#",
   "name": ".net-csharp"
  },
  "language_info": {
   "name": "C#"
  }
 },
 "nbformat": 4,
 "nbformat_minor": 2
}
