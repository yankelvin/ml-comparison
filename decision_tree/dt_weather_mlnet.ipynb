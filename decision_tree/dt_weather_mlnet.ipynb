{
 "cells": [
  {
   "cell_type": "code",
   "execution_count": null,
   "metadata": {
    "dotnet_interactive": {
     "language": "csharp"
    }
   },
   "outputs": [
    {
     "data": {
      "text/html": [
       "<div><div></div><div></div><div><strong>Installed Packages</strong><ul><li><span>Microsoft.ML, 1.6.0</span></li><li><span>Microsoft.ML.FastTree, 1.6.0</span></li></ul></div></div>"
      ]
     },
     "metadata": {},
     "output_type": "display_data"
    }
   ],
   "source": [
    "#r \"nuget:Microsoft.ML\"\n",
    "#r \"nuget:Microsoft.ML.FastTree\""
   ]
  },
  {
   "cell_type": "code",
   "execution_count": null,
   "metadata": {
    "dotnet_interactive": {
     "language": "csharp"
    }
   },
   "outputs": [],
   "source": [
    "using System;\n",
    "using System.IO;\n",
    "using Microsoft.ML;\n",
    "using Microsoft.ML.Data;"
   ]
  },
  {
   "cell_type": "code",
   "execution_count": null,
   "metadata": {
    "dotnet_interactive": {
     "language": "csharp"
    }
   },
   "outputs": [],
   "source": [
    "var trainDataPath = \"../datasets/weatherAUS-train.csv\";\n",
    "var testDataPath = \"../datasets/weatherAUS-test.csv\";"
   ]
  },
  {
   "cell_type": "code",
   "execution_count": null,
   "metadata": {
    "dotnet_interactive": {
     "language": "csharp"
    }
   },
   "outputs": [],
   "source": [
    "public class WeatherData\n",
    "{   \n",
    "    [LoadColumn(0, 12)]\n",
    "    public float Features { get; set; }\n",
    "    \n",
    "    [LoadColumn(13)]\n",
    "    public bool RainTomorrow { get; set; }\n",
    "}"
   ]
  },
  {
   "cell_type": "code",
   "execution_count": null,
   "metadata": {
    "dotnet_interactive": {
     "language": "csharp"
    }
   },
   "outputs": [],
   "source": [
    "var mlContext = new MLContext(seed: 0);"
   ]
  },
  {
   "cell_type": "code",
   "execution_count": null,
   "metadata": {
    "dotnet_interactive": {
     "language": "csharp"
    }
   },
   "outputs": [],
   "source": [
    "var trainingDataView = mlContext.Data.LoadFromTextFile<WeatherData>(trainDataPath, hasHeader: true, separatorChar: ',');\n",
    "var testDataView = mlContext.Data.LoadFromTextFile<WeatherData>(testDataPath, hasHeader: true, separatorChar: ',');"
   ]
  },
  {
   "cell_type": "code",
   "execution_count": null,
   "metadata": {
    "dotnet_interactive": {
     "language": "csharp"
    }
   },
   "outputs": [],
   "source": [
    "var dataProcessPipeline = mlContext.Transforms.Concatenate(\"Features\", nameof(WeatherData.Features))\n",
    "                                              .Append(mlContext.Transforms.NormalizeMinMax(\"Features\", \"Features\"))\n",
    "                                              .AppendCacheCheckpoint(mlContext);"
   ]
  },
  {
   "cell_type": "code",
   "execution_count": null,
   "metadata": {
    "dotnet_interactive": {
     "language": "csharp"
    }
   },
   "outputs": [],
   "source": [
    "var trainer = mlContext.BinaryClassification.Trainers.FastTree(labelColumnName: nameof(WeatherData.RainTomorrow), featureColumnName: \"Features\");\n",
    "\n",
    "var trainingPipeline = dataProcessPipeline.Append(trainer);"
   ]
  },
  {
   "cell_type": "code",
   "execution_count": null,
   "metadata": {
    "dotnet_interactive": {
     "language": "csharp"
    }
   },
   "outputs": [],
   "source": [
    "var trainedModel = trainingPipeline.Fit(trainingDataView);"
   ]
  },
  {
   "cell_type": "code",
   "execution_count": null,
   "metadata": {
    "dotnet_interactive": {
     "language": "csharp"
    }
   },
   "outputs": [],
   "source": [
    "var predictions = trainedModel.Transform(testDataView);"
   ]
  },
  {
   "cell_type": "code",
   "execution_count": null,
   "metadata": {
    "dotnet_interactive": {
     "language": "csharp"
    }
   },
   "outputs": [],
   "source": [
    "var metrics = mlContext.BinaryClassification.EvaluateNonCalibrated(data: predictions, labelColumnName: nameof(WeatherData.RainTomorrow), scoreColumnName: \"Score\");"
   ]
  },
  {
   "cell_type": "code",
   "execution_count": null,
   "metadata": {
    "dotnet_interactive": {
     "language": "csharp"
    }
   },
   "outputs": [
    {
     "name": "stdout",
     "output_type": "stream",
     "text": [
      "Accuracy: 85,24%\r\n",
      "F1Score: 61,39%\r\n",
      "Area Under Curve: 88,20%\n",
      "\r\n",
      "TEST POSITIVE RATIO:\t0,2238 (5354,0/(5354,0+18564,0))\r\n",
      "Confusion table\r\n",
      "          ||======================\r\n",
      "PREDICTED || positive | negative | Recall\r\n",
      "TRUTH     ||======================\r\n",
      " positive ||    2.806 |    2.548 | 0,5241\r\n",
      " negative ||      982 |   17.582 | 0,9471\r\n",
      "          ||======================\r\n",
      "Precision ||   0,7408 |   0,8734 |\r\n",
      "\r\n"
     ]
    }
   ],
   "source": [
    "Console.WriteLine($\"Accuracy: {metrics.Accuracy:P2}\");\n",
    "Console.WriteLine($\"F1Score: {metrics.F1Score:P2}\");\n",
    "Console.WriteLine($\"Area Under Curve: {metrics.AreaUnderRocCurve:P2}\\n\");\n",
    "Console.WriteLine(metrics.ConfusionMatrix.GetFormattedConfusionTable());"
   ]
  }
 ],
 "metadata": {
  "kernelspec": {
   "display_name": ".NET (C#)",
   "language": "C#",
   "name": ".net-csharp"
  },
  "language_info": {
   "file_extension": ".cs",
   "mimetype": "text/x-csharp",
   "name": "C#",
   "pygments_lexer": "csharp",
   "version": "9.0"
  },
  "orig_nbformat": 4
 },
 "nbformat": 4,
 "nbformat_minor": 2
}
