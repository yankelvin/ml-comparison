{
 "cells": [
  {
   "cell_type": "code",
   "execution_count": null,
   "metadata": {
    "dotnet_interactive": {
     "language": "csharp"
    }
   },
   "outputs": [
    {
     "data": {
      "text/html": [
       "<div><div></div><div></div><div><strong>Installed Packages</strong><ul><li><span>Microsoft.ML, 1.6.0</span></li></ul></div></div>"
      ]
     },
     "metadata": {},
     "output_type": "display_data"
    }
   ],
   "source": [
    "#r \"nuget:Microsoft.ML\""
   ]
  },
  {
   "cell_type": "code",
   "execution_count": null,
   "metadata": {
    "dotnet_interactive": {
     "language": "csharp"
    }
   },
   "outputs": [],
   "source": [
    "using System;\n",
    "using System.IO;\n",
    "using Microsoft.ML;\n",
    "using Microsoft.ML.Data;"
   ]
  },
  {
   "cell_type": "code",
   "execution_count": null,
   "metadata": {
    "dotnet_interactive": {
     "language": "csharp"
    }
   },
   "outputs": [],
   "source": [
    "public class Features\n",
    "{\n",
    "    [LoadColumn(0)]\n",
    "    public float FixedAcidity { get; set; }\n",
    "    [LoadColumn(1)]\n",
    "    public float VolatileAcidity { get; set; }\n",
    "    [LoadColumn(2)]\n",
    "    public float CitricAcid { get; set; }\n",
    "    [LoadColumn(3)]\n",
    "    public float ResidualSugar { get; set; }\n",
    "    [LoadColumn(4)]\n",
    "    public float Chlorides { get; set; }\n",
    "    [LoadColumn(5)]\n",
    "    public float FreeSulfurDioxide { get; set; }\n",
    "    [LoadColumn(6)]\n",
    "    public float TotalSulfurDioxide { get; set; }\n",
    "    [LoadColumn(7)]\n",
    "    public float Density { get; set; }\n",
    "    [LoadColumn(8)]\n",
    "    public float Ph { get; set; }\n",
    "    [LoadColumn(9)]\n",
    "    public float Sulphates { get; set; }\n",
    "    [LoadColumn(10)]\n",
    "    public float Alcohol { get; set; }\n",
    "    [LoadColumn(11)]\n",
    "    public float Quality { get; set; }\n",
    "}\n",
    "\n",
    "public class Label\n",
    "{\n",
    "    [ColumnName(\"PredictedLabel\")]\n",
    "    public float Quality { get; set; }\n",
    "}"
   ]
  },
  {
   "cell_type": "code",
   "execution_count": null,
   "metadata": {
    "dotnet_interactive": {
     "language": "csharp"
    }
   },
   "outputs": [],
   "source": [
    "var dataPath = \"../datasets//winequality-red.csv\";"
   ]
  },
  {
   "cell_type": "code",
   "execution_count": null,
   "metadata": {
    "dotnet_interactive": {
     "language": "csharp"
    }
   },
   "outputs": [],
   "source": [
    "var mlContext = new MLContext(seed: 0);"
   ]
  },
  {
   "cell_type": "code",
   "execution_count": null,
   "metadata": {
    "dotnet_interactive": {
     "language": "csharp"
    }
   },
   "outputs": [],
   "source": [
    "var data = mlContext.Data.LoadFromTextFile<Features>(dataPath, hasHeader: true, separatorChar: ';');"
   ]
  },
  {
   "cell_type": "code",
   "execution_count": null,
   "metadata": {
    "dotnet_interactive": {
     "language": "csharp"
    }
   },
   "outputs": [],
   "source": [
    "var partitions = mlContext.Data.TrainTestSplit(data, testFraction: 0.3);\n",
    "\n",
    "var trainingDataView = partitions.TrainSet;\n",
    "var testDataView = partitions.TestSet;"
   ]
  },
  {
   "cell_type": "code",
   "execution_count": null,
   "metadata": {
    "dotnet_interactive": {
     "language": "csharp"
    }
   },
   "outputs": [],
   "source": [
    "var pipeline = mlContext.Transforms.Conversion.MapValueToKey(inputColumnName: \"Quality\", outputColumnName: \"Label\")\n",
    "              .Append(mlContext.Transforms.Concatenate(\"Features\", \"FixedAcidity\", \"VolatileAcidity\",\"CitricAcid\", \"ResidualSugar\", \n",
    "                                                       \"Chlorides\", \"FreeSulfurDioxide\", \"TotalSulfurDioxide\",\"Density\", \"Ph\", \"Sulphates\", \"Alcohol\"))\n",
    "              .AppendCacheCheckpoint(mlContext);"
   ]
  },
  {
   "cell_type": "code",
   "execution_count": null,
   "metadata": {
    "dotnet_interactive": {
     "language": "csharp"
    }
   },
   "outputs": [],
   "source": [
    "var trainer = mlContext.MulticlassClassification.Trainers.NaiveBayes(\"Label\",\"Features\");\n",
    "var trainingPipeline = pipeline.Append(trainer).Append(mlContext.Transforms.Conversion.MapKeyToValue(\"PredictedLabel\"));"
   ]
  },
  {
   "cell_type": "code",
   "execution_count": null,
   "metadata": {
    "dotnet_interactive": {
     "language": "csharp"
    }
   },
   "outputs": [],
   "source": [
    "var trainedModel = trainingPipeline.Fit(partitions.TrainSet);\n",
    "var predictions = trainedModel.Transform(partitions.TestSet);\n",
    "\n",
    "var metrics = mlContext.MulticlassClassification.Evaluate(predictions);"
   ]
  },
  {
   "cell_type": "code",
   "execution_count": null,
   "metadata": {
    "dotnet_interactive": {
     "language": "csharp"
    }
   },
   "outputs": [
    {
     "name": "stdout",
     "output_type": "stream",
     "text": [
      "************************************************************\r\n",
      "*       MacroAccuracy: 16,67%\r\n",
      "*       MicroAccuracy: 40,53%\r\n",
      "************************************************************\r\n"
     ]
    }
   ],
   "source": [
    "Console.WriteLine($\"************************************************************\");\n",
    "Console.WriteLine($\"*       MacroAccuracy: {metrics.MacroAccuracy:P2}\");\n",
    "Console.WriteLine($\"*       MicroAccuracy: {metrics.MicroAccuracy:P2}\");\n",
    "Console.WriteLine($\"************************************************************\");"
   ]
  }
 ],
 "metadata": {
  "kernelspec": {
   "display_name": ".NET (C#)",
   "language": "C#",
   "name": ".net-csharp"
  },
  "language_info": {
   "name": "C#"
  }
 },
 "nbformat": 4,
 "nbformat_minor": 2
}
