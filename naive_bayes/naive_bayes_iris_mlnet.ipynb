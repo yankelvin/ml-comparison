{
 "cells": [
  {
   "cell_type": "code",
   "execution_count": null,
   "metadata": {
    "dotnet_interactive": {
     "language": "csharp"
    }
   },
   "outputs": [
    {
     "data": {
      "text/html": [
       "<div><div></div><div></div><div><strong>Installed Packages</strong><ul><li><span>Microsoft.ML, 1.6.0</span></li></ul></div></div>"
      ]
     },
     "metadata": {},
     "output_type": "display_data"
    }
   ],
   "source": [
    "#r \"nuget:Microsoft.ML\""
   ]
  },
  {
   "cell_type": "code",
   "execution_count": null,
   "metadata": {
    "dotnet_interactive": {
     "language": "csharp"
    }
   },
   "outputs": [],
   "source": [
    "using System;\n",
    "using System.IO;\n",
    "using Microsoft.ML;\n",
    "using Microsoft.ML.Data;"
   ]
  },
  {
   "cell_type": "code",
   "execution_count": null,
   "metadata": {
    "dotnet_interactive": {
     "language": "csharp"
    }
   },
   "outputs": [],
   "source": [
    "var trainDataPath = \"./data/iris-train.txt\";\n",
    "var testDataPath = \"./data/iris-test.txt\";"
   ]
  },
  {
   "cell_type": "code",
   "execution_count": null,
   "metadata": {
    "dotnet_interactive": {
     "language": "csharp"
    }
   },
   "outputs": [],
   "source": [
    "public class IrisData\n",
    "{\n",
    "    [LoadColumn(0)]\n",
    "    public float Label;\n",
    "\n",
    "    [LoadColumn(1)]\n",
    "    public float SepalLength;\n",
    "\n",
    "    [LoadColumn(2)]\n",
    "    public float SepalWidth;\n",
    "\n",
    "    [LoadColumn(3)]\n",
    "    public float PetalLength;\n",
    "\n",
    "    [LoadColumn(4)]\n",
    "    public float PetalWidth;\n",
    "}"
   ]
  },
  {
   "cell_type": "code",
   "execution_count": null,
   "metadata": {
    "dotnet_interactive": {
     "language": "csharp"
    }
   },
   "outputs": [],
   "source": [
    "var mlContext = new MLContext(seed: 0);"
   ]
  },
  {
   "cell_type": "code",
   "execution_count": null,
   "metadata": {
    "dotnet_interactive": {
     "language": "csharp"
    }
   },
   "outputs": [],
   "source": [
    "var trainingDataView = mlContext.Data.LoadFromTextFile<IrisData>(trainDataPath, hasHeader: true);\n",
    "var testDataView = mlContext.Data.LoadFromTextFile<IrisData>(testDataPath, hasHeader: true);"
   ]
  },
  {
   "cell_type": "code",
   "execution_count": null,
   "metadata": {
    "dotnet_interactive": {
     "language": "csharp"
    }
   },
   "outputs": [],
   "source": [
    "var dataProcessPipeline = mlContext.Transforms.Conversion.MapValueToKey(outputColumnName: \"KeyColumn\", inputColumnName: nameof(IrisData.Label))\n",
    "                         .Append(mlContext.Transforms.Concatenate(\"Features\", nameof(IrisData.SepalLength),\n",
    "                                                                              nameof(IrisData.SepalWidth),\n",
    "                                                                              nameof(IrisData.PetalLength),\n",
    "                                                                              nameof(IrisData.PetalWidth))\n",
    "                                                                              .AppendCacheCheckpoint(mlContext));"
   ]
  },
  {
   "cell_type": "code",
   "execution_count": null,
   "metadata": {
    "dotnet_interactive": {
     "language": "csharp"
    }
   },
   "outputs": [],
   "source": [
    "var trainer = mlContext.MulticlassClassification.Trainers.NaiveBayes(labelColumnName: \"KeyColumn\", featureColumnName: \"Features\")\n",
    "              .Append(mlContext.Transforms.Conversion.MapKeyToValue(outputColumnName: nameof(IrisData.Label), inputColumnName: \"KeyColumn\"));\n",
    "\n",
    "var trainingPipeline = dataProcessPipeline.Append(trainer);"
   ]
  },
  {
   "cell_type": "code",
   "execution_count": null,
   "metadata": {
    "dotnet_interactive": {
     "language": "csharp"
    }
   },
   "outputs": [
    {
     "name": "stdout",
     "output_type": "stream",
     "text": [
      "=============== Training the model ===============\r\n"
     ]
    }
   ],
   "source": [
    "Console.WriteLine(\"=============== Training the model ===============\");\n",
    "var trainedModel = trainingPipeline.Fit(trainingDataView);"
   ]
  },
  {
   "cell_type": "code",
   "execution_count": null,
   "metadata": {
    "dotnet_interactive": {
     "language": "csharp"
    }
   },
   "outputs": [
    {
     "name": "stdout",
     "output_type": "stream",
     "text": [
      "===== Evaluating Model's accuracy with Test data =====\r\n",
      "MacroAccuracy: 33,33%\r\n",
      "MicroAccuracy: 34,48%\r\n"
     ]
    }
   ],
   "source": [
    "Console.WriteLine(\"===== Evaluating Model's accuracy with Test data =====\");\n",
    "var predictions = trainedModel.Transform(testDataView);\n",
    "var metrics = mlContext.MulticlassClassification.Evaluate(predictions);\n",
    "\n",
    "Console.WriteLine($\"MacroAccuracy: {metrics.MacroAccuracy:P2}\");\n",
    "Console.WriteLine($\"MicroAccuracy: {metrics.MicroAccuracy:P2}\");"
   ]
  }
 ],
 "metadata": {
  "kernelspec": {
   "display_name": ".NET (C#)",
   "language": "C#",
   "name": ".net-csharp"
  },
  "language_info": {
   "name": "C#"
  }
 },
 "nbformat": 4,
 "nbformat_minor": 2
}
