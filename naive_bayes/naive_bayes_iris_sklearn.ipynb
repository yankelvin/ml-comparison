{
 "cells": [
  {
   "cell_type": "code",
   "execution_count": 23,
   "metadata": {
    "dotnet_interactive": {
     "language": "csharp"
    }
   },
   "outputs": [],
   "source": [
    "import pandas as pd\n",
    "from sklearn.naive_bayes import GaussianNB\n",
    "from sklearn.metrics import f1_score"
   ]
  },
  {
   "cell_type": "code",
   "execution_count": 24,
   "metadata": {
    "dotnet_interactive": {
     "language": "csharp"
    }
   },
   "outputs": [],
   "source": [
    "trainDataPath = '../datasets/iris-train.txt'\n",
    "testDataPath = '../datasets/iris-test.txt'"
   ]
  },
  {
   "cell_type": "code",
   "execution_count": 25,
   "metadata": {
    "dotnet_interactive": {
     "language": "csharp"
    }
   },
   "outputs": [],
   "source": [
    "trainData = pd.read_csv(trainDataPath, sep=\"\\t\")\n",
    "testData = pd.read_csv(testDataPath, sep=\"\\t\")"
   ]
  },
  {
   "cell_type": "code",
   "execution_count": 26,
   "metadata": {
    "dotnet_interactive": {
     "language": "csharp"
    }
   },
   "outputs": [],
   "source": [
    "X_train = trainData.drop(columns=\"#Label\")\n",
    "y_train = trainData[\"#Label\"]\n",
    "\n",
    "X_test = testData.drop(columns=\"#Label\")\n",
    "y_test = testData[\"#Label\"]"
   ]
  },
  {
   "cell_type": "code",
   "execution_count": 27,
   "metadata": {
    "dotnet_interactive": {
     "language": "csharp"
    }
   },
   "outputs": [],
   "source": [
    "gnb = GaussianNB()\n",
    "y_pred = gnb.fit(X_train, y_train).predict(X_test)"
   ]
  },
  {
   "cell_type": "code",
   "execution_count": 28,
   "metadata": {},
   "outputs": [],
   "source": [
    "macroAccuracy = f1_score(y_test, y_pred, average='macro')\n",
    "microAccuracy = f1_score(y_test, y_pred, average='micro')"
   ]
  },
  {
   "cell_type": "code",
   "execution_count": 30,
   "metadata": {
    "dotnet_interactive": {
     "language": "csharp"
    }
   },
   "outputs": [
    {
     "name": "stdout",
     "output_type": "stream",
     "text": [
      "************************************************************\n",
      "*       MacroAccuracy:  93.33%\n",
      "*       MicroAccuracy:  93.33%\n",
      "************************************************************\n"
     ]
    }
   ],
   "source": [
    "print(f\"************************************************************\")\n",
    "print(f\"*       MacroAccuracy:  {macroAccuracy*100:.2f}%\")\n",
    "print(f\"*       MicroAccuracy:  {microAccuracy*100:.2f}%\")\n",
    "print(f\"************************************************************\")"
   ]
  }
 ],
 "metadata": {
  "interpreter": {
   "hash": "95984f020b8c2fddded1e0167ee22f75e0ef006a5cca981969c7bd3ef59ed554"
  },
  "kernelspec": {
   "display_name": "Python 3.7.3 64-bit ('venv': venv)",
   "name": "python3"
  },
  "language_info": {
   "codemirror_mode": {
    "name": "ipython",
    "version": 3
   },
   "file_extension": ".py",
   "mimetype": "text/x-python",
   "name": "python",
   "nbconvert_exporter": "python",
   "pygments_lexer": "ipython3",
   "version": "3.7.3"
  },
  "orig_nbformat": 4
 },
 "nbformat": 4,
 "nbformat_minor": 2
}
