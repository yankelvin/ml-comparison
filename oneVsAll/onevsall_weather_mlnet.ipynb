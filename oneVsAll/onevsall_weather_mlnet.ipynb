{
 "cells": [
  {
   "cell_type": "code",
   "execution_count": null,
   "metadata": {
    "dotnet_interactive": {
     "language": "csharp"
    }
   },
   "outputs": [
    {
     "data": {
      "text/html": [
       "<div><div></div><div></div><div><strong>Installed Packages</strong><ul><li><span>Microsoft.ML, 1.6.0</span></li></ul></div></div>"
      ]
     },
     "metadata": {},
     "output_type": "display_data"
    }
   ],
   "source": [
    "#r \"nuget:Microsoft.ML\""
   ]
  },
  {
   "cell_type": "code",
   "execution_count": null,
   "metadata": {
    "dotnet_interactive": {
     "language": "csharp"
    }
   },
   "outputs": [],
   "source": [
    "using System;\n",
    "using System.IO;\n",
    "using Microsoft.ML;\n",
    "using Microsoft.ML.Data;"
   ]
  },
  {
   "cell_type": "code",
   "execution_count": null,
   "metadata": {
    "dotnet_interactive": {
     "language": "csharp"
    }
   },
   "outputs": [],
   "source": [
    "var trainDataPath = \"../datasets//weatherAUS-train.csv\";\n",
    "var testDataPath = \"../datasets//weatherAUS-test.csv\";"
   ]
  },
  {
   "cell_type": "code",
   "execution_count": null,
   "metadata": {
    "dotnet_interactive": {
     "language": "csharp"
    }
   },
   "outputs": [],
   "source": [
    "public class WeatherData\n",
    "{   \n",
    "    [LoadColumn(0)]\n",
    "    public float MinTemp;\n",
    "    \n",
    "    [LoadColumn(1)]\n",
    "    public float MaxTemp;\n",
    "    \n",
    "    [LoadColumn(2)]\n",
    "    public float Rainfall;\n",
    "    \n",
    "    [LoadColumn(3)]\n",
    "    public float WindGustSpeed;\n",
    "    \n",
    "    [LoadColumn(4)]\n",
    "    public float WindSpeed9am;\n",
    "    \n",
    "    [LoadColumn(5)]\n",
    "    public float WindSpeed3pm;\n",
    "    \n",
    "    [LoadColumn(6)]\n",
    "    public float Humidity9am;\n",
    "    \n",
    "    [LoadColumn(7)]\n",
    "    public float Humidity3pm;\n",
    "    \n",
    "    [LoadColumn(8)]\n",
    "    public float Pressure9am;\n",
    "    \n",
    "    [LoadColumn(9)]\n",
    "    public float Pressure3pm;\n",
    "    \n",
    "    [LoadColumn(10)]\n",
    "    public float Temp9am;\n",
    "    \n",
    "    [LoadColumn(11)]\n",
    "    public float Temp3pm;\n",
    "    \n",
    "    [LoadColumn(12)]\n",
    "    public float RainToday;\n",
    "    \n",
    "    [LoadColumn(13)]\n",
    "    public bool RainTomorrow;\n",
    "}"
   ]
  },
  {
   "cell_type": "code",
   "execution_count": null,
   "metadata": {
    "dotnet_interactive": {
     "language": "csharp"
    }
   },
   "outputs": [],
   "source": [
    "var mlContext = new MLContext(seed: 0);"
   ]
  },
  {
   "cell_type": "code",
   "execution_count": null,
   "metadata": {
    "dotnet_interactive": {
     "language": "csharp"
    }
   },
   "outputs": [],
   "source": [
    "var trainingDataView = mlContext.Data.LoadFromTextFile<WeatherData>(trainDataPath, hasHeader: true, separatorChar: ',');\n",
    "var testDataView = mlContext.Data.LoadFromTextFile<WeatherData>(testDataPath, hasHeader: true, separatorChar: ',');"
   ]
  },
  {
   "cell_type": "code",
   "execution_count": null,
   "metadata": {
    "dotnet_interactive": {
     "language": "csharp"
    }
   },
   "outputs": [],
   "source": [
    "var dataProcessPipeline = mlContext.Transforms.Conversion.MapValueToKey(outputColumnName: \"KeyColumn\", inputColumnName: nameof(WeatherData.RainTomorrow))\n",
    "                        .Append(mlContext.Transforms.Concatenate(\"Features\", nameof(WeatherData.MinTemp),\n",
    "                                                                              nameof(WeatherData.MaxTemp),\n",
    "                                                                              nameof(WeatherData.Rainfall),\n",
    "                                                                              nameof(WeatherData.WindGustSpeed),\n",
    "                                                                              nameof(WeatherData.WindSpeed9am),\n",
    "                                                                              nameof(WeatherData.WindSpeed3pm),\n",
    "                                                                              nameof(WeatherData.Humidity9am),\n",
    "                                                                              nameof(WeatherData.Humidity3pm),\n",
    "                                                                              nameof(WeatherData.Pressure9am),\n",
    "                                                                              nameof(WeatherData.Pressure3pm),\n",
    "                                                                              nameof(WeatherData.Temp9am),\n",
    "                                                                              nameof(WeatherData.Temp3pm),\n",
    "                                                                              nameof(WeatherData.RainToday)))\n",
    "                                                                              .AppendCacheCheckpoint(mlContext);"
   ]
  },
  {
   "cell_type": "code",
   "execution_count": null,
   "metadata": {
    "dotnet_interactive": {
     "language": "csharp"
    }
   },
   "outputs": [],
   "source": [
    "var linearSvmTrainer = mlContext.BinaryClassification.Trainers.LinearSvm(labelColumnName: \"KeyColumn\", featureColumnName: \"Features\");\n",
    "var trainer = mlContext.MulticlassClassification.Trainers.OneVersusAll(linearSvmTrainer, labelColumnName: \"KeyColumn\");\n",
    "\n",
    "var trainingPipeline = dataProcessPipeline.Append(trainer);"
   ]
  },
  {
   "cell_type": "code",
   "execution_count": null,
   "metadata": {
    "dotnet_interactive": {
     "language": "csharp"
    }
   },
   "outputs": [],
   "source": [
    "var trainedModel = trainingPipeline.Fit(trainingDataView);"
   ]
  },
  {
   "cell_type": "code",
   "execution_count": null,
   "metadata": {
    "dotnet_interactive": {
     "language": "csharp"
    }
   },
   "outputs": [],
   "source": [
    "var predictions = trainedModel.Transform(testDataView);"
   ]
  },
  {
   "cell_type": "code",
   "execution_count": null,
   "metadata": {
    "dotnet_interactive": {
     "language": "csharp"
    }
   },
   "outputs": [],
   "source": [
    "var metrics = mlContext.MulticlassClassification.Evaluate(data: predictions, labelColumnName: \"KeyColumn\", scoreColumnName: \"Score\");"
   ]
  },
  {
   "cell_type": "code",
   "execution_count": null,
   "metadata": {
    "dotnet_interactive": {
     "language": "csharp"
    }
   },
   "outputs": [
    {
     "name": "stdout",
     "output_type": "stream",
     "text": [
      "************************************************************\r\n",
      "*       MacroAccuracy: 0,706336951469255\r\n",
      "*       MicroAccuracy: 0,8433397441257631\r\n",
      "************************************************************\r\n"
     ]
    }
   ],
   "source": [
    "Console.WriteLine($\"************************************************************\");\n",
    "Console.WriteLine($\"*       MacroAccuracy: {metrics.MacroAccuracy}\");\n",
    "Console.WriteLine($\"*       MicroAccuracy: {metrics.MicroAccuracy}\");\n",
    "Console.WriteLine($\"************************************************************\");"
   ]
  }
 ],
 "metadata": {
  "kernelspec": {
   "display_name": ".NET (C#)",
   "language": "C#",
   "name": ".net-csharp"
  },
  "language_info": {
   "file_extension": ".cs",
   "mimetype": "text/x-csharp",
   "name": "C#",
   "pygments_lexer": "csharp",
   "version": "9.0"
  },
  "orig_nbformat": 4
 },
 "nbformat": 4,
 "nbformat_minor": 2
}
